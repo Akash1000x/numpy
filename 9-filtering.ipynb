{
 "cells": [
  {
   "cell_type": "code",
   "execution_count": 1,
   "metadata": {},
   "outputs": [],
   "source": [
    "import numpy as np"
   ]
  },
  {
   "cell_type": "code",
   "execution_count": 5,
   "metadata": {},
   "outputs": [
    {
     "name": "stdout",
     "output_type": "stream",
     "text": [
      "[12 48]\n"
     ]
    }
   ],
   "source": [
    "arr = np.array([12,56,48,32])\n",
    "\n",
    "# x = arr[[True,False,True,False]]\n",
    "x = [True,False,True,False]\n",
    "newarr = arr[x]\n",
    "print(newarr)"
   ]
  },
  {
   "cell_type": "code",
   "execution_count": 8,
   "metadata": {},
   "outputs": [
    {
     "name": "stdout",
     "output_type": "stream",
     "text": [
      "[83 84]\n"
     ]
    }
   ],
   "source": [
    "arr = np.array([81,82,83,84])\n",
    "\n",
    "filter_arr = []\n",
    "for i in arr:\n",
    "    if i>82:\n",
    "        filter_arr.append(True)\n",
    "    else:\n",
    "        filter_arr.append(False)\n",
    "newarr = arr[filter_arr]\n",
    "print(newarr)"
   ]
  },
  {
   "cell_type": "code",
   "execution_count": 11,
   "metadata": {},
   "outputs": [
    {
     "name": "stdout",
     "output_type": "stream",
     "text": [
      "[83 84]\n"
     ]
    }
   ],
   "source": [
    "#or\n",
    "\n",
    "arr = np.array([81,82,83,84])\n",
    "filter_arr = arr>82\n",
    "newarr = arr[filter_arr]\n",
    "print(newarr)"
   ]
  },
  {
   "cell_type": "code",
   "execution_count": 10,
   "metadata": {},
   "outputs": [
    {
     "name": "stdout",
     "output_type": "stream",
     "text": [
      "[2 4 6]\n"
     ]
    }
   ],
   "source": [
    "arr =np.array([1, 2, 3, 4, 5, 6])\n",
    "filter_arr = []\n",
    "for i in arr:\n",
    "    if i%2==0:\n",
    "        filter_arr.append(True)\n",
    "    else :\n",
    "        filter_arr.append(False)\n",
    "newarr= arr[filter_arr]\n",
    "print(newarr)"
   ]
  },
  {
   "cell_type": "code",
   "execution_count": 13,
   "metadata": {},
   "outputs": [
    {
     "name": "stdout",
     "output_type": "stream",
     "text": [
      "[ True False  True False  True False]\n"
     ]
    }
   ],
   "source": [
    "#or\n",
    "arr =np.array([1, 2, 3, 4, 5, 6])\n",
    "filter_arr = arr%2 ==1\n",
    "newarr = arr[filter_arr]\n",
    "print(newarr)"
   ]
  }
 ],
 "metadata": {
  "kernelspec": {
   "display_name": "Python 3",
   "language": "python",
   "name": "python3"
  },
  "language_info": {
   "codemirror_mode": {
    "name": "ipython",
    "version": 3
   },
   "file_extension": ".py",
   "mimetype": "text/x-python",
   "name": "python",
   "nbconvert_exporter": "python",
   "pygments_lexer": "ipython3",
   "version": "3.11.4"
  },
  "orig_nbformat": 4
 },
 "nbformat": 4,
 "nbformat_minor": 2
}
