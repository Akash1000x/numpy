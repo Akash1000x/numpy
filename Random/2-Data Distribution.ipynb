{
 "cells": [
  {
   "cell_type": "code",
   "execution_count": 1,
   "metadata": {},
   "outputs": [],
   "source": [
    "from numpy import random"
   ]
  },
  {
   "cell_type": "code",
   "execution_count": 5,
   "metadata": {},
   "outputs": [
    {
     "name": "stdout",
     "output_type": "stream",
     "text": [
      "[0 0 0 3 1 3 1 0 0 0 0 0 1 1 0 0 0 0 3 3 1 0 1 1 3 1 0 1 1 1 1 0 1 0 0 3 0\n",
      " 0 1 1 3 3 3 3 1 0 0 3 3 1]\n",
      "[[3 1 1]\n",
      " [1 0 0]\n",
      " [1 0 0]]\n"
     ]
    }
   ],
   "source": [
    "x = random.choice([7,0,1,3],p = [0,0.5,0.3,0.2],size=(50))\n",
    "y = random.choice([7,0,1,3],p = [0,0.5,0.3,0.2],size=(3,3))\n",
    "print(x)\n",
    "print(y)"
   ]
  }
 ],
 "metadata": {
  "kernelspec": {
   "display_name": "Python 3",
   "language": "python",
   "name": "python3"
  },
  "language_info": {
   "codemirror_mode": {
    "name": "ipython",
    "version": 3
   },
   "file_extension": ".py",
   "mimetype": "text/x-python",
   "name": "python",
   "nbconvert_exporter": "python",
   "pygments_lexer": "ipython3",
   "version": "3.11.4"
  },
  "orig_nbformat": 4
 },
 "nbformat": 4,
 "nbformat_minor": 2
}
