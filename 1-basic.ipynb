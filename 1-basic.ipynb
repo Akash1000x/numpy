{
 "cells": [
  {
   "cell_type": "code",
   "execution_count": null,
   "id": "d8b76ddd",
   "metadata": {},
   "outputs": [],
   "source": [
    "import numpy as np"
   ]
  },
  {
   "cell_type": "code",
   "execution_count": null,
   "id": "32acf60a",
   "metadata": {},
   "outputs": [],
   "source": [
    "array = np.array([3,2,5,6])"
   ]
  },
  {
   "cell_type": "code",
   "execution_count": null,
   "id": "4a17a5d9",
   "metadata": {},
   "outputs": [],
   "source": [
    "print(array)\n",
    "print(type(array))"
   ]
  },
  {
   "cell_type": "code",
   "execution_count": null,
   "id": "bdff1fad",
   "metadata": {},
   "outputs": [],
   "source": [
    "print(np.__version__)"
   ]
  },
  {
   "cell_type": "code",
   "execution_count": null,
   "id": "ff064186",
   "metadata": {},
   "outputs": [],
   "source": [
    "a = np.array(42)\n",
    "b = np.array([[1,2,6],[5,7,9]])\n",
    "c = np.array([[[2,3,1,],[1,2,5]],[[4,8,9],[7,8,9]]])\n",
    "print(\"shape of array \",b.shape)\n",
    "print(\"shape of array \",c.shape)"
   ]
  },
  {
   "cell_type": "code",
   "execution_count": null,
   "id": "b1b3f098",
   "metadata": {},
   "outputs": [],
   "source": [
    "print(b[1])\n",
    "print(b[0,1])\n",
    "print(c[1,1,2])\n",
    "#negative marking\n",
    "print(c[1,-1,-2])\n",
    "#slicing\n",
    "print(b[0:2,0:2])\n",
    "# print(c[1,1,0:2])"
   ]
  },
  {
   "cell_type": "code",
   "execution_count": null,
   "id": "b941224e",
   "metadata": {},
   "outputs": [],
   "source": [
    "print(a)\n",
    "print(b)\n",
    "print(c)\n",
    "print(\"dimention \",a.ndim)\n",
    "print(b.ndim)\n",
    "print(c.ndim)\n"
   ]
  },
  {
   "cell_type": "code",
   "execution_count": null,
   "id": "ad27a89f",
   "metadata": {},
   "outputs": [],
   "source": [
    "arr = np.array([1,2,3,4],ndmin=5)\n",
    "print(arr)\n",
    "print(\"dimention \",arr.ndim)\n",
    "print(\"shape of array \",arr.shape)\n"
   ]
  },
  {
   "cell_type": "code",
   "execution_count": null,
   "id": "b46f40c1",
   "metadata": {},
   "outputs": [],
   "source": [
    "ar = np.array([3,2,5,6],dtype='i8')\n",
    "print(ar)\n",
    "print(ar.dtype)"
   ]
  },
  {
   "cell_type": "code",
   "execution_count": null,
   "id": "9913a15d",
   "metadata": {},
   "outputs": [],
   "source": [
    "arrr = np.array([3,2,5,6])\n",
    "newarr = arrr.astype('S')\n",
    "print(newarr)"
   ]
  }
 ],
 "metadata": {
  "kernelspec": {
   "display_name": "Python 3 (ipykernel)",
   "language": "python",
   "name": "python3"
  },
  "language_info": {
   "codemirror_mode": {
    "name": "ipython",
    "version": 3
   },
   "file_extension": ".py",
   "mimetype": "text/x-python",
   "name": "python",
   "nbconvert_exporter": "python",
   "pygments_lexer": "ipython3",
   "version": "3.11.4"
  }
 },
 "nbformat": 4,
 "nbformat_minor": 5
}
