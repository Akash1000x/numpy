{
 "cells": [
  {
   "cell_type": "code",
   "execution_count": 1,
   "metadata": {},
   "outputs": [],
   "source": [
    "import numpy as np"
   ]
  },
  {
   "cell_type": "code",
   "execution_count": 17,
   "metadata": {},
   "outputs": [
    {
     "name": "stdout",
     "output_type": "stream",
     "text": [
      "[2 5 8 3 6 9]\n",
      "[[2 5 8]\n",
      " [3 6 9]]\n",
      "[[[2 3]\n",
      "  [5 6]\n",
      "  [8 9]]]\n"
     ]
    }
   ],
   "source": [
    "arr1 = np.array([2,5,8])\n",
    "arr2 = np.array([3,6,9])\n",
    "# arr = np.concatenate((arr1,arr2))\n",
    "newarr1 = np.hstack((arr1,arr2))\n",
    "newarr2 = np.vstack((arr1,arr2))\n",
    "newarr3 = np.dstack((arr1,arr2))\n",
    "print(newarr1)\n",
    "print(newarr2)\n",
    "print(newarr3)"
   ]
  },
  {
   "cell_type": "code",
   "execution_count": 8,
   "metadata": {},
   "outputs": [
    {
     "name": "stdout",
     "output_type": "stream",
     "text": [
      "[[1 2 5 6]\n",
      " [3 4 7 8]]\n"
     ]
    }
   ],
   "source": [
    "arr1 = np.array([[1, 2], [3, 4]])\n",
    "\n",
    "arr2 = np.array([[5, 6], [7, 8]])\n",
    "\n",
    "arr = np.concatenate((arr1, arr2), axis = 1)\n",
    "\n",
    "print(arr)\n"
   ]
  },
  {
   "cell_type": "code",
   "execution_count": 13,
   "metadata": {},
   "outputs": [
    {
     "name": "stdout",
     "output_type": "stream",
     "text": [
      "[[2 3]\n",
      " [5 6]\n",
      " [8 9]]\n"
     ]
    }
   ],
   "source": [
    "arr1 = np.array([2,5,8])\n",
    "arr2 = np.array([3,6,9])\n",
    "\n",
    "arr = np.stack((arr1, arr2),axis = 1)\n",
    "\n",
    "print(arr)\n"
   ]
  }
 ],
 "metadata": {
  "kernelspec": {
   "display_name": "Python 3",
   "language": "python",
   "name": "python3"
  },
  "language_info": {
   "codemirror_mode": {
    "name": "ipython",
    "version": 3
   },
   "file_extension": ".py",
   "mimetype": "text/x-python",
   "name": "python",
   "nbconvert_exporter": "python",
   "pygments_lexer": "ipython3",
   "version": "3.11.4"
  },
  "orig_nbformat": 4
 },
 "nbformat": 4,
 "nbformat_minor": 2
}
